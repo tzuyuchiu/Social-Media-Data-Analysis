{
 "cells": [
  {
   "cell_type": "markdown",
   "metadata": {},
   "source": [
    "# Clean & Analyze Social Media"
   ]
  },
  {
   "cell_type": "markdown",
   "metadata": {},
   "source": [
    "## Introduction\n",
    "\n",
    "Social media has become a ubiquitous part of modern life, with platforms such as Instagram, Twitter, and Facebook serving as essential communication channels. Social media data sets are vast and complex, making analysis a challenging task for businesses and researchers alike. In this project, we explore a simulated social media, for example Tweets, data set to understand trends in likes across different categories.\n",
    "\n",
    "## Prerequisites\n",
    "\n",
    "To follow along with this project, you should have a basic understanding of Python programming and data analysis concepts. In addition, you may want to use the following packages in your Python environment:\n",
    "\n",
    "- pandas\n",
    "- Matplotlib\n",
    "- ...\n",
    "\n",
    "These packages should already be installed in Coursera's Jupyter Notebook environment, however if you'd like to install additional packages that are not included in this environment or are working off platform you can install additional packages using `!pip install packagename` within a notebook cell such as:\n",
    "\n",
    "- `!pip install pandas`\n",
    "- `!pip install matplotlib`\n",
    "\n",
    "## Project Scope\n",
    "\n",
    "The objective of this project is to analyze tweets (or other social media data) and gain insights into user engagement. We will explore the data set using visualization techniques to understand the distribution of likes across different categories. Finally, we will analyze the data to draw conclusions about the most popular categories and the overall engagement on the platform.\n",
    "\n",
    "## Project Objectives\n",
    "\n",
    "- Increase client reach and engagement\n",
    "\n",
    "- Gain valuable insights that will help improve social media performance\n",
    "\n",
    "- Achieve their social media goals and provide data-driven recommendations\n",
    "\n",
    "\n",
    "\n",
    "## Step 1: Importing Required Libraries\n",
    "\n",
    "As the name suggests, the first step is to import all the necessary libraries that will be used in the project. In this case, we need pandas, numpy, matplotlib, seaborn, and random libraries.\n",
    "\n",
    "Pandas is a library used for data manipulation and analysis. Numpy is a library used for numerical computations. Matplotlib is a library used for data visualization. Seaborn is a library used for statistical data visualization. Random is a library used to generate random numbers."
   ]
  },
  {
   "cell_type": "code",
   "execution_count": 201,
   "metadata": {},
   "outputs": [],
   "source": [
    "# import all packages and set plots to be embedded inline\n",
    "import pandas as pd\n",
    "import numpy as np\n",
    "import random\n",
    "import matplotlib.pyplot as plt\n",
    "import matplotlib.dates as mpl_dates\n",
    "\n",
    "%matplotlib inline"
   ]
  },
  {
   "cell_type": "code",
   "execution_count": 202,
   "metadata": {},
   "outputs": [],
   "source": [
    "# Define the list of categories\n",
    "categories =['Food', 'Travel', 'Fashion', 'Fitness', 'Music', 'Culture', 'Family', 'Health']\n",
    "\n",
    "# Number of entries (n)\n",
    "n=500\n",
    "\n",
    "# Generate random data\n",
    "data = {'Date': pd.date_range('2021-01-01', periods=n), \n",
    "        'Category': [random.choice(categories) for _ in range(n)],\n",
    "        'Likes': np.random.randint(0, 10000, size=n)\n",
    "       } "
   ]
  },
  {
   "cell_type": "code",
   "execution_count": 203,
   "metadata": {},
   "outputs": [],
   "source": [
    "# Create a dataframe\n",
    "df  =pd.DataFrame(data)"
   ]
  },
  {
   "cell_type": "code",
   "execution_count": 204,
   "metadata": {},
   "outputs": [
    {
     "name": "stdout",
     "output_type": "stream",
     "text": [
      "        Date Category  Likes\n",
      "0 2021-01-01  Fashion   7618\n",
      "1 2021-01-02   Family   1526\n",
      "2 2021-01-03   Health   3541\n",
      "3 2021-01-04  Fashion   1130\n",
      "4 2021-01-05  Culture   2281\n",
      "(500, 3)\n",
      "<class 'pandas.core.frame.DataFrame'>\n",
      "RangeIndex: 500 entries, 0 to 499\n",
      "Data columns (total 3 columns):\n",
      " #   Column    Non-Null Count  Dtype         \n",
      "---  ------    --------------  -----         \n",
      " 0   Date      500 non-null    datetime64[ns]\n",
      " 1   Category  500 non-null    object        \n",
      " 2   Likes     500 non-null    int64         \n",
      "dtypes: datetime64[ns](1), int64(1), object(1)\n",
      "memory usage: 11.8+ KB\n",
      "None\n"
     ]
    }
   ],
   "source": [
    "# high-level overview of dataset \n",
    "print(df.head())\n",
    "print(df.shape)\n",
    "print(df.info())"
   ]
  },
  {
   "cell_type": "code",
   "execution_count": 205,
   "metadata": {},
   "outputs": [
    {
     "data": {
      "text/html": [
       "<div>\n",
       "<style scoped>\n",
       "    .dataframe tbody tr th:only-of-type {\n",
       "        vertical-align: middle;\n",
       "    }\n",
       "\n",
       "    .dataframe tbody tr th {\n",
       "        vertical-align: top;\n",
       "    }\n",
       "\n",
       "    .dataframe thead th {\n",
       "        text-align: right;\n",
       "    }\n",
       "</style>\n",
       "<table border=\"1\" class=\"dataframe\">\n",
       "  <thead>\n",
       "    <tr style=\"text-align: right;\">\n",
       "      <th></th>\n",
       "      <th>Likes</th>\n",
       "    </tr>\n",
       "  </thead>\n",
       "  <tbody>\n",
       "    <tr>\n",
       "      <th>count</th>\n",
       "      <td>500.00000</td>\n",
       "    </tr>\n",
       "    <tr>\n",
       "      <th>mean</th>\n",
       "      <td>4916.16400</td>\n",
       "    </tr>\n",
       "    <tr>\n",
       "      <th>std</th>\n",
       "      <td>2941.02195</td>\n",
       "    </tr>\n",
       "    <tr>\n",
       "      <th>min</th>\n",
       "      <td>10.00000</td>\n",
       "    </tr>\n",
       "    <tr>\n",
       "      <th>25%</th>\n",
       "      <td>2227.50000</td>\n",
       "    </tr>\n",
       "    <tr>\n",
       "      <th>50%</th>\n",
       "      <td>4826.00000</td>\n",
       "    </tr>\n",
       "    <tr>\n",
       "      <th>75%</th>\n",
       "      <td>7589.00000</td>\n",
       "    </tr>\n",
       "    <tr>\n",
       "      <th>max</th>\n",
       "      <td>9922.00000</td>\n",
       "    </tr>\n",
       "  </tbody>\n",
       "</table>\n",
       "</div>"
      ],
      "text/plain": [
       "            Likes\n",
       "count   500.00000\n",
       "mean   4916.16400\n",
       "std    2941.02195\n",
       "min      10.00000\n",
       "25%    2227.50000\n",
       "50%    4826.00000\n",
       "75%    7589.00000\n",
       "max    9922.00000"
      ]
     },
     "execution_count": 205,
     "metadata": {},
     "output_type": "execute_result"
    }
   ],
   "source": [
    "# check the statistic summary\n",
    "df.describe()"
   ]
  },
  {
   "cell_type": "markdown",
   "metadata": {},
   "source": [
    "## Step 2 : Exploratory Data Analysis"
   ]
  },
  {
   "cell_type": "code",
   "execution_count": 206,
   "metadata": {},
   "outputs": [
    {
     "data": {
      "text/html": [
       "<div>\n",
       "<style scoped>\n",
       "    .dataframe tbody tr th:only-of-type {\n",
       "        vertical-align: middle;\n",
       "    }\n",
       "\n",
       "    .dataframe tbody tr th {\n",
       "        vertical-align: top;\n",
       "    }\n",
       "\n",
       "    .dataframe thead th {\n",
       "        text-align: right;\n",
       "    }\n",
       "</style>\n",
       "<table border=\"1\" class=\"dataframe\">\n",
       "  <thead>\n",
       "    <tr style=\"text-align: right;\">\n",
       "      <th></th>\n",
       "      <th>Date</th>\n",
       "      <th>Category</th>\n",
       "      <th>Likes</th>\n",
       "      <th>Year</th>\n",
       "    </tr>\n",
       "  </thead>\n",
       "  <tbody>\n",
       "    <tr>\n",
       "      <th>0</th>\n",
       "      <td>2021-01-01</td>\n",
       "      <td>Fashion</td>\n",
       "      <td>7618</td>\n",
       "      <td>2021</td>\n",
       "    </tr>\n",
       "    <tr>\n",
       "      <th>1</th>\n",
       "      <td>2021-01-02</td>\n",
       "      <td>Family</td>\n",
       "      <td>1526</td>\n",
       "      <td>2021</td>\n",
       "    </tr>\n",
       "    <tr>\n",
       "      <th>2</th>\n",
       "      <td>2021-01-03</td>\n",
       "      <td>Health</td>\n",
       "      <td>3541</td>\n",
       "      <td>2021</td>\n",
       "    </tr>\n",
       "    <tr>\n",
       "      <th>3</th>\n",
       "      <td>2021-01-04</td>\n",
       "      <td>Fashion</td>\n",
       "      <td>1130</td>\n",
       "      <td>2021</td>\n",
       "    </tr>\n",
       "    <tr>\n",
       "      <th>4</th>\n",
       "      <td>2021-01-05</td>\n",
       "      <td>Culture</td>\n",
       "      <td>2281</td>\n",
       "      <td>2021</td>\n",
       "    </tr>\n",
       "    <tr>\n",
       "      <th>...</th>\n",
       "      <td>...</td>\n",
       "      <td>...</td>\n",
       "      <td>...</td>\n",
       "      <td>...</td>\n",
       "    </tr>\n",
       "    <tr>\n",
       "      <th>495</th>\n",
       "      <td>2022-05-11</td>\n",
       "      <td>Music</td>\n",
       "      <td>4487</td>\n",
       "      <td>2022</td>\n",
       "    </tr>\n",
       "    <tr>\n",
       "      <th>496</th>\n",
       "      <td>2022-05-12</td>\n",
       "      <td>Health</td>\n",
       "      <td>2936</td>\n",
       "      <td>2022</td>\n",
       "    </tr>\n",
       "    <tr>\n",
       "      <th>497</th>\n",
       "      <td>2022-05-13</td>\n",
       "      <td>Health</td>\n",
       "      <td>7935</td>\n",
       "      <td>2022</td>\n",
       "    </tr>\n",
       "    <tr>\n",
       "      <th>498</th>\n",
       "      <td>2022-05-14</td>\n",
       "      <td>Travel</td>\n",
       "      <td>6130</td>\n",
       "      <td>2022</td>\n",
       "    </tr>\n",
       "    <tr>\n",
       "      <th>499</th>\n",
       "      <td>2022-05-15</td>\n",
       "      <td>Travel</td>\n",
       "      <td>2558</td>\n",
       "      <td>2022</td>\n",
       "    </tr>\n",
       "  </tbody>\n",
       "</table>\n",
       "<p>500 rows × 4 columns</p>\n",
       "</div>"
      ],
      "text/plain": [
       "          Date Category  Likes  Year\n",
       "0   2021-01-01  Fashion   7618  2021\n",
       "1   2021-01-02   Family   1526  2021\n",
       "2   2021-01-03   Health   3541  2021\n",
       "3   2021-01-04  Fashion   1130  2021\n",
       "4   2021-01-05  Culture   2281  2021\n",
       "..         ...      ...    ...   ...\n",
       "495 2022-05-11    Music   4487  2022\n",
       "496 2022-05-12   Health   2936  2022\n",
       "497 2022-05-13   Health   7935  2022\n",
       "498 2022-05-14   Travel   6130  2022\n",
       "499 2022-05-15   Travel   2558  2022\n",
       "\n",
       "[500 rows x 4 columns]"
      ]
     },
     "execution_count": 206,
     "metadata": {},
     "output_type": "execute_result"
    }
   ],
   "source": [
    "df['Year'] = df['Date'].dt.year\n",
    "\n",
    "df"
   ]
  },
  {
   "cell_type": "code",
   "execution_count": 207,
   "metadata": {},
   "outputs": [
    {
     "name": "stdout",
     "output_type": "stream",
     "text": [
      "           Likes\n",
      "Category        \n",
      "Culture   349884\n",
      "Family    260374\n",
      "Fashion   299128\n",
      "Fitness   373372\n",
      "Food      265351\n",
      "Health    304022\n",
      "Music     332011\n",
      "Travel    273940\n"
     ]
    }
   ],
   "source": [
    "# create a pivot table to show the total likes by category\n",
    "pivot_sum = pd.pivot_table(\n",
    "    df,\n",
    "    index = 'Category',\n",
    "    values = 'Likes',\n",
    "    aggfunc = 'sum',\n",
    "    fill_value = 0,\n",
    "    \n",
    ")\n",
    "#view pivot table\n",
    "print(pivot_sum)"
   ]
  },
  {
   "cell_type": "code",
   "execution_count": 208,
   "metadata": {},
   "outputs": [
    {
     "name": "stdout",
     "output_type": "stream",
     "text": [
      "           Likes\n",
      "Category        \n",
      "Fitness   373372\n",
      "Culture   349884\n",
      "Music     332011\n",
      "Health    304022\n",
      "Fashion   299128\n",
      "Travel    273940\n",
      "Food      265351\n",
      "Family    260374\n"
     ]
    }
   ],
   "source": [
    "#sort pivot table by value in Likes column in descending order\n",
    "sorted_pivot_sum = pivot_sum.sort_values(['Likes'], ascending=False)\n",
    "                \n",
    "#view sorted pivot table\n",
    "print(sorted_pivot_sum)"
   ]
  },
  {
   "cell_type": "code",
   "execution_count": 209,
   "metadata": {},
   "outputs": [
    {
     "name": "stdout",
     "output_type": "stream",
     "text": [
      "           Likes  % Likes\n",
      "Category                 \n",
      "Fitness   373372    15.19\n",
      "Culture   349884    14.23\n",
      "Music     332011    13.51\n",
      "Health    304022    12.37\n",
      "Fashion   299128    12.17\n",
      "Travel    273940    11.14\n",
      "Food      265351    10.80\n",
      "Family    260374    10.59\n"
     ]
    }
   ],
   "source": [
    "# Add a column to display Likes as a percentage of total Likes\n",
    "sorted_pivot_sum['% Likes']= ((sorted_pivot_sum['Likes']/sorted_pivot_sum['Likes'].sum())*100).round(2)\n",
    "\n",
    "#view sorted pivot table\n",
    "print(sorted_pivot_sum)"
   ]
  },
  {
   "cell_type": "code",
   "execution_count": 210,
   "metadata": {},
   "outputs": [
    {
     "data": {
      "text/plain": [
       "<matplotlib.axes._subplots.AxesSubplot at 0x7fc0f1e61d10>"
      ]
     },
     "execution_count": 210,
     "metadata": {},
     "output_type": "execute_result"
    },
    {
     "data": {
      "image/png": "[encoded data removed]",
      "text/plain": [
       "<Figure size 432x288 with 1 Axes>"
      ]
     },
     "metadata": {
      "needs_background": "light"
     },
     "output_type": "display_data"
    }
   ],
   "source": [
    "\n",
    "sorted_pivot_sum[\"Likes\"].plot(linestyle='dotted')"
   ]
  },
  {
   "cell_type": "code",
   "execution_count": 211,
   "metadata": {},
   "outputs": [
    {
     "name": "stdout",
     "output_type": "stream",
     "text": [
      "Year         2021    2022      All\n",
      "Category                          \n",
      "Culture    247414  102470   349884\n",
      "Family     191569   68805   260374\n",
      "Fashion    219652   79476   299128\n",
      "Fitness    256507  116865   373372\n",
      "Food       179505   85846   265351\n",
      "Health     236789   67233   304022\n",
      "Music      245889   86122   332011\n",
      "Travel     215883   58057   273940\n",
      "All       1793208  664874  2458082\n"
     ]
    }
   ],
   "source": [
    "# create a pivot table to show the total likes per category by year\n",
    "pivot_cat_year = pd.pivot_table(\n",
    "    df,\n",
    "    index = 'Category',\n",
    "    columns= 'Year',\n",
    "    values = 'Likes',\n",
    "    aggfunc = 'sum',\n",
    "    fill_value = 0,\n",
    "    margins=True\n",
    ")\n",
    "\n",
    "\n",
    "#view pivot table\n",
    "print(pivot_cat_year)"
   ]
  },
  {
   "cell_type": "code",
   "execution_count": 212,
   "metadata": {},
   "outputs": [
    {
     "data": {
      "text/html": [
       "<div>\n",
       "<style scoped>\n",
       "    .dataframe tbody tr th:only-of-type {\n",
       "        vertical-align: middle;\n",
       "    }\n",
       "\n",
       "    .dataframe tbody tr th {\n",
       "        vertical-align: top;\n",
       "    }\n",
       "\n",
       "    .dataframe thead th {\n",
       "        text-align: right;\n",
       "    }\n",
       "</style>\n",
       "<table border=\"1\" class=\"dataframe\">\n",
       "  <thead>\n",
       "    <tr style=\"text-align: right;\">\n",
       "      <th>Year</th>\n",
       "      <th>Category</th>\n",
       "      <th>2021</th>\n",
       "      <th>2022</th>\n",
       "    </tr>\n",
       "  </thead>\n",
       "  <tbody>\n",
       "    <tr>\n",
       "      <th>0</th>\n",
       "      <td>Fitness</td>\n",
       "      <td>256507</td>\n",
       "      <td>116865</td>\n",
       "    </tr>\n",
       "    <tr>\n",
       "      <th>1</th>\n",
       "      <td>Culture</td>\n",
       "      <td>247414</td>\n",
       "      <td>102470</td>\n",
       "    </tr>\n",
       "    <tr>\n",
       "      <th>2</th>\n",
       "      <td>Music</td>\n",
       "      <td>245889</td>\n",
       "      <td>86122</td>\n",
       "    </tr>\n",
       "    <tr>\n",
       "      <th>3</th>\n",
       "      <td>Health</td>\n",
       "      <td>236789</td>\n",
       "      <td>67233</td>\n",
       "    </tr>\n",
       "    <tr>\n",
       "      <th>4</th>\n",
       "      <td>Fashion</td>\n",
       "      <td>219652</td>\n",
       "      <td>79476</td>\n",
       "    </tr>\n",
       "    <tr>\n",
       "      <th>5</th>\n",
       "      <td>Travel</td>\n",
       "      <td>215883</td>\n",
       "      <td>58057</td>\n",
       "    </tr>\n",
       "    <tr>\n",
       "      <th>6</th>\n",
       "      <td>Food</td>\n",
       "      <td>179505</td>\n",
       "      <td>85846</td>\n",
       "    </tr>\n",
       "    <tr>\n",
       "      <th>7</th>\n",
       "      <td>Family</td>\n",
       "      <td>191569</td>\n",
       "      <td>68805</td>\n",
       "    </tr>\n",
       "  </tbody>\n",
       "</table>\n",
       "</div>"
      ],
      "text/plain": [
       "Year Category    2021    2022\n",
       "0     Fitness  256507  116865\n",
       "1     Culture  247414  102470\n",
       "2       Music  245889   86122\n",
       "3      Health  236789   67233\n",
       "4     Fashion  219652   79476\n",
       "5      Travel  215883   58057\n",
       "6        Food  179505   85846\n",
       "7      Family  191569   68805"
      ]
     },
     "execution_count": 212,
     "metadata": {},
     "output_type": "execute_result"
    }
   ],
   "source": [
    "#sort pivot table by value in Likes column in descending order\n",
    "sorted_pivot_cat_year = pivot_cat_year.assign(sortkey=pivot_cat_year.index == 'All')\\\n",
    "                .sort_values(['sortkey','All'], ascending=[True, False]).reset_index()\n",
    "               \n",
    "\n",
    "sorted_pivot_cat_yearv2=sorted_pivot_cat_year.drop(columns=['All', 'sortkey'])\n",
    "sorted_pivot_cat_yearv2=sorted_pivot_cat_yearv2.drop(sorted_pivot_cat_yearv2.index[-1])\n",
    "\n",
    "sorted_pivot_cat_yearv2"
   ]
  },
  {
   "cell_type": "code",
   "execution_count": 213,
   "metadata": {},
   "outputs": [
    {
     "data": {
      "text/plain": [
       "([<matplotlib.axis.XTick at 0x7fc0f21baa50>,\n",
       "  <matplotlib.axis.XTick at 0x7fc0f21ba8d0>,\n",
       "  <matplotlib.axis.XTick at 0x7fc0f16de390>,\n",
       "  <matplotlib.axis.XTick at 0x7fc0f165e5d0>,\n",
       "  <matplotlib.axis.XTick at 0x7fc0f165ee50>,\n",
       "  <matplotlib.axis.XTick at 0x7fc0f16653d0>,\n",
       "  <matplotlib.axis.XTick at 0x7fc0f165ef10>,\n",
       "  <matplotlib.axis.XTick at 0x7fc0f16652d0>],\n",
       " [Text(0, 0, 'Fitness'),\n",
       "  Text(0, 0, 'Culture'),\n",
       "  Text(0, 0, 'Music'),\n",
       "  Text(0, 0, 'Health'),\n",
       "  Text(0, 0, 'Fashion'),\n",
       "  Text(0, 0, 'Travel'),\n",
       "  Text(0, 0, 'Food'),\n",
       "  Text(0, 0, 'Family')])"
      ]
     },
     "execution_count": 213,
     "metadata": {},
     "output_type": "execute_result"
    },
    {
     "data": {
      "image/png": "[encoded data removed]",
      "text/plain": [
       "<Figure size 1080x576 with 1 Axes>"
      ]
     },
     "metadata": {
      "needs_background": "light"
     },
     "output_type": "display_data"
    }
   ],
   "source": [
    "# plot the results from pivot table\n",
    "sorted_pivot_cat_yearv2.plot(kind='bar', figsize=(15,8),stacked=True)\n",
    "plt.title('Total Likes summary by year')\n",
    "plt.xlabel('Category')\n",
    "plt.ylabel('Total Likes')\n",
    "plt.xticks(sorted_pivot_cat_yearv2.index,sorted_pivot_cat_yearv2[\"Category\"].values,rotation=30) \n"
   ]
  },
  {
   "cell_type": "code",
   "execution_count": 214,
   "metadata": {},
   "outputs": [],
   "source": [
    "newdf = df[df.Category.isin(['Fitness','Culture','Music'])]\n",
    "newdf['Date'] = pd.to_datetime(newdf['Date'])\n",
    "newdf = newdf.set_index('Date') \n",
    "#weekly_summary = df.story_point.resample('W').sum()"
   ]
  },
  {
   "cell_type": "code",
   "execution_count": 215,
   "metadata": {},
   "outputs": [
    {
     "data": {
      "text/plain": [
       "<matplotlib.legend.Legend at 0x7fc0f1648bd0>"
      ]
     },
     "execution_count": 215,
     "metadata": {},
     "output_type": "execute_result"
    },
    {
     "data": {
      "image/png": "[encoded data removed]",
      "text/plain": [
       "<Figure size 432x288 with 1 Axes>"
      ]
     },
     "metadata": {
      "needs_background": "light"
     },
     "output_type": "display_data"
    }
   ],
   "source": [
    "summed_df = newdf.groupby([pd.Grouper(freq='M'), 'Category']).sum()\\\n",
    "                .reset_index().pivot(index='Date', columns='Category', values='Likes')\n",
    "\n",
    "summed_df.plot()\n",
    "plt.title('Total Likes summary by month')\n",
    "plt.xlabel('Month')\n",
    "plt.ylabel('Total Likes')\n",
    "# Put a legend to the right of the current axis\n",
    "plt.legend(loc='center left', bbox_to_anchor=(1, 0.5))\n"
   ]
  },
  {
   "cell_type": "markdown",
   "metadata": {},
   "source": [
    "# Conclusions\n",
    "\n",
    "The analysis suggested that <br>\n",
    "\n",
    "<ul>\n",
    "<li> The top three topics that interested clients the most are Fitness, Culture, and Music. </li>\n",
    "<br>\n",
    "<li> The number of Likes has seen a significant increase since 2022, possibly due to people becoming more aware of the importance of exercise during the COVID-19 pandemic.</li>\n",
    "\n",
    "<br>\n",
    "<li> As a response, it would be beneficial for the social media platform to incorporate more articles and activities related to fitness and health. Additionally, enhancing the content related to music and culture can further boost user engagement and overall performance.</li>\n",
    "\n",
    "</ul>\n",
    "\n",
    "  "
   ]
  },
  {
   "cell_type": "code",
   "execution_count": null,
   "metadata": {},
   "outputs": [],
   "source": []
  }
 ],
 "metadata": {
  "kernelspec": {
   "display_name": "Python 3 (ipykernel)",
   "language": "python",
   "name": "python3"
  },
  "language_info": {
   "codemirror_mode": {
    "name": "ipython",
    "version": 3
   },
   "file_extension": ".py",
   "mimetype": "text/x-python",
   "name": "python",
   "nbconvert_exporter": "python",
   "pygments_lexer": "ipython3",
   "version": "3.9.13"
  }
 },
 "nbformat": 4,
 "nbformat_minor": 4
}
